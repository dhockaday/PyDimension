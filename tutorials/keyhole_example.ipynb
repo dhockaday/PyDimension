{
 "cells": [
  {
   "cell_type": "markdown",
   "metadata": {
    "toc": true
   },
   "source": [
    "<h1>Table of Contents<span class=\"tocSkip\"></span></h1>\n",
    "<div class=\"toc\"><ul class=\"toc-item\"><li><span><a href=\"#Demonstration-Dimensionless-Learning-for-Keyhole-Dynamics\" data-toc-modified-id=\"Demonstration-Dimensionless-Learning-for-Keyhole-Dynamics-1\"><span class=\"toc-item-num\">1&nbsp;&nbsp;</span>Demonstration Dimensionless Learning for Keyhole Dynamics</a></span></li><li><span><a href=\"#Import-libraries\" data-toc-modified-id=\"Import-libraries-2\"><span class=\"toc-item-num\">2&nbsp;&nbsp;</span>Import libraries</a></span></li><li><span><a href=\"#Parametric-space-analysis\" data-toc-modified-id=\"Parametric-space-analysis-3\"><span class=\"toc-item-num\">3&nbsp;&nbsp;</span>Parametric space analysis</a></span><ul class=\"toc-item\"><li><span><a href=\"#Load-dataset\" data-toc-modified-id=\"Load-dataset-3.1\"><span class=\"toc-item-num\">3.1&nbsp;&nbsp;</span>Load dataset</a></span></li><li><span><a href=\"#Calculate-dimension-matrix\" data-toc-modified-id=\"Calculate-dimension-matrix-3.2\"><span class=\"toc-item-num\">3.2&nbsp;&nbsp;</span>Calculate dimension matrix</a></span></li><li><span><a href=\"#Calculate-basis-vectors\" data-toc-modified-id=\"Calculate-basis-vectors-3.3\"><span class=\"toc-item-num\">3.3&nbsp;&nbsp;</span>Calculate basis vectors</a></span></li></ul></li><li><span><a href=\"#Helper-functions\" data-toc-modified-id=\"Helper-functions-4\"><span class=\"toc-item-num\">4&nbsp;&nbsp;</span>Helper functions</a></span></li><li><span><a href=\"#Best-representation-learning-discovery\" data-toc-modified-id=\"Best-representation-learning-discovery-5\"><span class=\"toc-item-num\">5&nbsp;&nbsp;</span>Best representation learning discovery</a></span></li><li><span><a href=\"#Reference\" data-toc-modified-id=\"Reference-6\"><span class=\"toc-item-num\">6&nbsp;&nbsp;</span>Reference</a></span></li></ul></div>"
   ]
  },
  {
   "cell_type": "markdown",
   "metadata": {},
   "source": [
    "# Demonstration Dimensionless Learning for Keyhole Dynamics \n",
    "\n",
    "- **Authors**: Xiaoyu Xie, Zhengtao Gan\n",
    "- **Contact**: xiaoyuxie2020@u.northwestern.edu\n",
    "- **Date**: Oct. 2021"
   ]
  },
  {
   "cell_type": "markdown",
   "metadata": {},
   "source": [
    "# Import libraries"
   ]
  },
  {
   "cell_type": "code",
   "execution_count": 1,
   "metadata": {},
   "outputs": [],
   "source": [
    "import numpy as np\n",
    "import matplotlib.pyplot as plt\n",
    "from numpy.linalg import matrix_rank\n",
    "from numpy.linalg import inv\n",
    "import pandas as pd\n",
    "import pysindy as ps\n",
    "import random\n",
    "from sklearn.linear_model import LinearRegression\n",
    "from sklearn.metrics import r2_score\n",
    "from scipy.optimize import minimize"
   ]
  },
  {
   "cell_type": "markdown",
   "metadata": {},
   "source": [
    "# Parametric space analysis"
   ]
  },
  {
   "cell_type": "markdown",
   "metadata": {},
   "source": [
    "Paraemter list:\n",
    "\n",
    "$f(\\eta P,V_s,r_0, C_p, \\alpha, \\rho, T_l-T_0)=e$"
   ]
  },
  {
   "cell_type": "markdown",
   "metadata": {},
   "source": [
    "## Load dataset"
   ]
  },
  {
   "cell_type": "code",
   "execution_count": 2,
   "metadata": {},
   "outputs": [],
   "source": [
    "data = np.loadtxt(\n",
    "    open(\"../dataset/keyhole_data.csv\",\"rb\"),\n",
    "    delimiter=',',\n",
    "    skiprows=1,\n",
    "    usecols = (2,3,5,7,8,9,12,14)\n",
    ")\n",
    "X = data[:,0:7]\n",
    "Y = data[:,7]"
   ]
  },
  {
   "cell_type": "markdown",
   "metadata": {},
   "source": [
    "## Calculate dimension matrix"
   ]
  },
  {
   "cell_type": "markdown",
   "metadata": {},
   "source": [
    "Dimension matrix (input):\n",
    "\n",
    "\\begin{equation}  \n",
    "D_{in}=\n",
    "\\left[                \n",
    "  \\begin{array}{ccc}  \n",
    "    2 & 1 & 1 & 2 &2&-3&0\\\\  \n",
    "    -3 & -1 & 0 & -2 &-1&0&0\\\\  \n",
    "    1& 0 & 0 & 0 &0&1&0\\\\\n",
    "    0& 0 & 0 & -1 &0&0&1\\\\\n",
    "  \\end{array}\n",
    "\\right]              \n",
    "\\end{equation}\n",
    "\n",
    "Dimension matrix (output):\n",
    "\n",
    "\\begin{equation}\n",
    "D_{out}=\n",
    "\\left[                \n",
    "  \\begin{array}{ccc}  \n",
    "    1 \\\\  \n",
    "    0 \\\\  \n",
    "    0 \\\\\n",
    "    0 \\\\\n",
    "  \\end{array}\n",
    "\\right]              \n",
    "\\end{equation}"
   ]
  },
  {
   "cell_type": "code",
   "execution_count": 3,
   "metadata": {
    "scrolled": true
   },
   "outputs": [
    {
     "name": "stdout",
     "output_type": "stream",
     "text": [
      "4\n"
     ]
    }
   ],
   "source": [
    "D_in = np.mat('2,1,1,2,2,-3,0; -3,-1,0,-2,-1,0,0; 1,0,0,0,0,1,0;0,0,0,-1,0,0,1')\n",
    "D_out = np.mat('1;0;0;0')\n",
    "D_in_rank = matrix_rank(D_in)\n",
    "print(D_in_rank)"
   ]
  },
  {
   "cell_type": "markdown",
   "metadata": {},
   "source": [
    "## Calculate basis vectors"
   ]
  },
  {
   "cell_type": "markdown",
   "metadata": {},
   "source": [
    "Calculate three basis vectors for equation:\n",
    "$\n",
    "D_{in}x=0\n",
    "$\n"
   ]
  },
  {
   "cell_type": "code",
   "execution_count": 4,
   "metadata": {
    "scrolled": true
   },
   "outputs": [
    {
     "name": "stdout",
     "output_type": "stream",
     "text": [
      "basis1_in: \n",
      "[[ 0.]\n",
      " [ 1.]\n",
      " [ 1.]\n",
      " [ 0.]\n",
      " [-1.]\n",
      " [ 0.]\n",
      " [ 0.]]\n",
      "basis2_in: \n",
      "[[ 1.]\n",
      " [-3.]\n",
      " [-2.]\n",
      " [ 0.]\n",
      " [ 0.]\n",
      " [-1.]\n",
      " [ 0.]]\n",
      "basis3_in: \n",
      "[[ 0.00000000e+00]\n",
      " [ 2.00000000e+00]\n",
      " [-3.70074342e-17]\n",
      " [-1.00000000e+00]\n",
      " [ 0.00000000e+00]\n",
      " [ 0.00000000e+00]\n",
      " [-1.00000000e+00]]\n"
     ]
    }
   ],
   "source": [
    "Din1 = D_in[:, 0:4]\n",
    "Din2 = D_in[:, 4:8]\n",
    "\n",
    "x2 = np.mat('-1; 0; 0')\n",
    "x1 = -inv(Din1) * Din2 * x2\n",
    "basis1_in = np.vstack((x1, x2))\n",
    "print(f'basis1_in: \\n{basis1_in}')\n",
    "\n",
    "x2 = np.mat('0;-1;0')\n",
    "x1 = -inv(Din1) * Din2 * x2\n",
    "basis2_in = np.vstack((x1, x2))\n",
    "print(f'basis2_in: \\n{basis2_in}')\n",
    "\n",
    "x2 = np.mat('0; 0; -1')\n",
    "x1 = -inv(Din1) * Din2 * x2\n",
    "basis3_in = np.vstack((x1, x2))\n",
    "print(f'basis3_in: \\n{basis3_in}')"
   ]
  },
  {
   "cell_type": "markdown",
   "metadata": {},
   "source": [
    "# Helper functions"
   ]
  },
  {
   "cell_type": "code",
   "execution_count": 5,
   "metadata": {},
   "outputs": [],
   "source": [
    "def calc_pi(a):\n",
    "    '''\n",
    "    Calculate pi\n",
    "    Note that the best coef for keyhole is [0.5, 1, 1]\n",
    "    '''\n",
    "    coef_pi = 0.5 * basis1_in + a[0] * basis2_in + a[1] * basis3_in\n",
    "    pi_mat = np.exp(np.log(X).dot(coef_pi))\n",
    "    pi = np.squeeze(np.asarray(pi_mat))\n",
    "    return pi\n",
    "\n",
    "def calc_y(a, w):\n",
    "    '''\n",
    "    Calculate the prediction y using a polynomial function\n",
    "    '''\n",
    "    pi = calc_pi(a)\n",
    "    y = w[0] + w[1] * pi + w[2] * pi**2 + w[3] * pi**3 + w[4] * pi**4 + w[5] * pi**5\n",
    "    return y\n",
    "\n",
    "def objective(a, w):\n",
    "    '''\n",
    "    Calculate objective(loss)\n",
    "    '''\n",
    "    return np.square(pi2 - calc_y(a, w)).mean()\n",
    "\n",
    "def ploter(pi1, pi2, iteration):\n",
    "    fig = plt.figure()\n",
    "    plt.scatter(pi1, pi2)\n",
    "    plt.xlabel('pi1', fontsize=16)\n",
    "    plt.ylabel('pi2', fontsize=16)\n",
    "    plt.title(f'iteration: {iteration}', fontsize=24)\n",
    "    plt.show()"
   ]
  },
  {
   "cell_type": "markdown",
   "metadata": {},
   "source": [
    "# Best representation learning discovery"
   ]
  },
  {
   "cell_type": "code",
   "execution_count": 6,
   "metadata": {
    "scrolled": false
   },
   "outputs": [
    {
     "name": "stdout",
     "output_type": "stream",
     "text": [
      "Initial a=[0.47592925 1.08845845]\n",
      "Iteration: 0, coef: [0.47655419 1.08822938], Objective: 6.775658045770944\n"
     ]
    },
    {
     "data": {
      "image/png": "[encoded data removed]",
      "text/plain": [
       "<Figure size 432x288 with 1 Axes>"
      ]
     },
     "metadata": {
      "needs_background": "light"
     },
     "output_type": "display_data"
    },
    {
     "name": "stdout",
     "output_type": "stream",
     "text": [
      "Iteration: 1000, coef: [0.83230304 0.91861095], Objective: 0.3475122152888207\n"
     ]
    },
    {
     "data": {
      "image/png": "[encoded data removed]",
      "text/plain": [
       "<Figure size 432x288 with 1 Axes>"
      ]
     },
     "metadata": {
      "needs_background": "light"
     },
     "output_type": "display_data"
    },
    {
     "name": "stdout",
     "output_type": "stream",
     "text": [
      "Iteration: 2000, coef: [0.8815391  0.88536812], Objective: 0.10914143504481646\n"
     ]
    },
    {
     "data": {
      "image/png": "[encoded data removed]",
      "text/plain": [
       "<Figure size 432x288 with 1 Axes>"
      ]
     },
     "metadata": {
      "needs_background": "light"
     },
     "output_type": "display_data"
    }
   ],
   "source": [
    "random.seed(3)\n",
    "\n",
    "niter = 3000\n",
    "ninital = 1\n",
    "\n",
    "a = np.zeros(2)\n",
    "w = np.zeros(6)\n",
    "\n",
    "global pi2\n",
    "pi2 = Y / X[:,2]\n",
    "\n",
    "feature_library = ps.PolynomialLibrary(degree=5)\n",
    "optimizer =LinearRegression(fit_intercept=False)\n",
    "\n",
    "for j in range(ninital):\n",
    "    a[0] = 2 * random.random()\n",
    "    a[1] = 2 * random.random()\n",
    "    print(f'Initial a={a}') \n",
    "    \n",
    "    info = {}\n",
    "    info['initial'] = a\n",
    "    a_history = np.zeros((niter, 2))\n",
    "    \n",
    "    model = ps.SINDy(feature_library=feature_library, optimizer=optimizer)\n",
    "\n",
    "    for i in range(niter):\n",
    "        # update coefficient w for polynomials\n",
    "        pi1 = calc_pi(a)\n",
    "        \n",
    "        model.fit(pi1, x_dot=pi2);\n",
    "        coeffi = model.coefficients()\n",
    "        w = coeffi[0]\n",
    "        y_recover = calc_y(a, w)       \n",
    "        r2 = r2_score(y_recover, pi2)\n",
    "\n",
    "        # update coefficient a for pi\n",
    "        solution = minimize(objective, a, method='BFGS', tol=1e-3, args=w, options={'maxiter':1})\n",
    "        a = solution.x\n",
    "        y_recover = calc_y(a,w)\n",
    "        r2 = r2_score(y_recover, pi2) \n",
    "\n",
    "        a_history[i,:] = a\n",
    "        if i % 1000 == 0:\n",
    "            # Note that the best coef in keyhole case is [0.5, 1, 1]\n",
    "            # here we only optimize the last two coefficients\n",
    "            print(f'Iteration: {i}, coef: {a}, Objective: {objective(a,w)}')\n",
    "            ploter(pi1, pi2, i)"
   ]
  },
  {
   "cell_type": "markdown",
   "metadata": {},
   "source": [
    "# Reference\n",
    "\n",
    "- [1] Saha, S., **Gan, Z.**, Cheng, L., Gao, J., Kafka, O. L., **Xie, X.**, Li, H., Tajdari, M., Kim, H. A., & Liu, W. K. (2021). Hierarchical Deep Learning Neural Network (HiDeNN): An artificial intelligence (AI) framework for computational science and engineering. Computer Methods in Applied Mechanics and Engineering, 373, 113452. https://doi.org/10.1016/j.cma.2020.113452\n",
    "- [2] **Xie, X.**, Liu, W. K., **Gan, Z.** (2021). Data-driven discovery of dimensionless numbers and scaling laws from experimental measurements (In preparation)"
   ]
  },
  {
   "cell_type": "code",
   "execution_count": null,
   "metadata": {},
   "outputs": [],
   "source": []
  }
 ],
 "metadata": {
  "kernelspec": {
   "display_name": "py3.8",
   "language": "python",
   "name": "py3.8"
  },
  "language_info": {
   "codemirror_mode": {
    "name": "ipython",
    "version": 3
   },
   "file_extension": ".py",
   "mimetype": "text/x-python",
   "name": "python",
   "nbconvert_exporter": "python",
   "pygments_lexer": "ipython3",
   "version": "3.8.3"
  },
  "toc": {
   "base_numbering": 1,
   "nav_menu": {},
   "number_sections": true,
   "sideBar": true,
   "skip_h1_title": false,
   "title_cell": "Table of Contents",
   "title_sidebar": "Contents",
   "toc_cell": true,
   "toc_position": {},
   "toc_section_display": true,
   "toc_window_display": true
  }
 },
 "nbformat": 4,
 "nbformat_minor": 4
}
